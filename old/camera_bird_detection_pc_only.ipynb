{
 "cells": [
  {
   "cell_type": "code",
   "execution_count": null,
   "id": "97cb9d25-3f9b-484d-887d-925db5cf0fb1",
   "metadata": {},
   "outputs": [],
   "source": [
    "# jupyter nbconvert --to script camera_bird_detection.ipynb"
   ]
  },
  {
   "cell_type": "code",
   "execution_count": 2,
   "id": "345173d4-a17a-4d25-85a0-90fb6a376fc5",
   "metadata": {},
   "outputs": [
    {
     "name": "stdout",
     "output_type": "stream",
     "text": [
      "TensorFlow version: 2.19.0\n",
      "OpenCV version: 4.11.0\n"
     ]
    }
   ],
   "source": [
    "import tensorflow as tf\n",
    "import cv2\n",
    "import numpy as np\n",
    "import matplotlib.pyplot as plt\n",
    "import time\n",
    "from djitellopy import Tello\n",
    "from datetime import datetime\n",
    "import os\n",
    "import subprocess\n",
    "from playsound import playsound\n",
    "import threading\n",
    "\n",
    "print(\"TensorFlow version:\", tf.__version__)\n",
    "print(\"OpenCV version:\", cv2.__version__)"
   ]
  },
  {
   "cell_type": "code",
   "execution_count": 28,
   "id": "6cdee02a-e329-4a5c-a484-a4ac65c2741b",
   "metadata": {},
   "outputs": [],
   "source": [
    "# Constants\n",
    "MODEL_PATH = \"bird_detection_model_v1.keras\"\n",
    "SOUND_FILENAME = 'alert.wav'\n",
    "CLASS_NAMES = ['no_bird', 'with_bird']\n",
    "INPUT_SIZE = (180, 180)\n",
    "ROWS, COLS = 8, 8  # Tile grid\n",
    "THRESHOLD = 0.50\n",
    "LOOP_INTERVAL = 3"
   ]
  },
  {
   "cell_type": "code",
   "execution_count": 30,
   "id": "20fb897c-4d30-4c3a-995f-cee209c1d584",
   "metadata": {},
   "outputs": [
    {
     "name": "stdout",
     "output_type": "stream",
     "text": [
      "Model loaded ✅\n"
     ]
    }
   ],
   "source": [
    "# Load the model\n",
    "model = tf.keras.models.load_model(MODEL_PATH)\n",
    "print(\"Model loaded ✅\")"
   ]
  },
  {
   "cell_type": "code",
   "execution_count": 42,
   "id": "6883a610-f7d5-477d-bc9f-5dfba5636fb8",
   "metadata": {},
   "outputs": [],
   "source": [
    "def crop_center_square(tile):\n",
    "    h, w = tile.shape[:2]\n",
    "    min_dim = min(h, w)\n",
    "    y1 = (h - min_dim) // 2\n",
    "    x1 = (w - min_dim) // 2\n",
    "    return tile[y1:y1+min_dim, x1:x1+min_dim]\n",
    "\n",
    "def preprocess_frame_to_tiles(frame, rows, cols, input_size):\n",
    "    height, width = frame.shape[:2]\n",
    "    tile_h, tile_w = height // rows, width // cols\n",
    "\n",
    "    tiles = []\n",
    "    tile_coords = []\n",
    "\n",
    "    for r in range(rows):\n",
    "        for c in range(cols):\n",
    "            y1, y2 = r * tile_h, (r + 1) * tile_h\n",
    "            x1, x2 = c * tile_w, (c + 1) * tile_w\n",
    "            tile = frame[y1:y2, x1:x2]\n",
    "            square = crop_center_square(tile)\n",
    "            resized = cv2.resize(square, input_size)\n",
    "            normalized = resized.astype(\"float32\") / 255.0\n",
    "            tiles.append(normalized)\n",
    "            tile_coords.append((x1, y1, x2, y2))\n",
    "\n",
    "    return np.array(tiles), tile_coords\n",
    "\n",
    "def save_detected_bird(tile_img, cam_id, tile_id, confidence):\n",
    "    now = datetime.now().strftime(\"%Y%m%d_%H%M%S\")\n",
    "    folder = \"detections\"\n",
    "    os.makedirs(folder, exist_ok=True)\n",
    "    filename = f\"{folder}/cam{cam_id}_tile{tile_id}_{int(confidence*100)}_{now}.jpg\"\n",
    "    cv2.imwrite(filename, tile_img)\n",
    "    print(f\"📸 Saved detection: {filename}\")\n",
    "\n",
    "def play_sound_deterent():\n",
    "    print(\"🔊 Playing sound...\")\n",
    "    sound_path = os.path.join(os.getcwd(), SOUND_FILENAME)\n",
    "    return subprocess.Popen([\"aplay\", sound_path])\n",
    "\n",
    "def deploy_drone():\n",
    "    print(\"🚁 Drone: Starting mission...\")\n",
    "\n",
    "    try:\n",
    "        tello = Tello()\n",
    "        tello.connect()\n",
    "        print(\"✅ Drone connected\")\n",
    "\n",
    "        time.sleep(2)\n",
    "\n",
    "        tello.takeoff()\n",
    "        print(\"🛫 Drone took off\")\n",
    "\n",
    "        # Move forward\n",
    "        tello.move_forward(100)\n",
    "\n",
    "        # Simulate circular path\n",
    "        for _ in range(8):\n",
    "            tello.move_forward(50)\n",
    "            tello.rotate_clockwise(45)\n",
    "\n",
    "        # Simulate return\n",
    "        tello.rotate_clockwise(180)\n",
    "        tello.move_forward(100)\n",
    "\n",
    "        tello.land()\n",
    "        print(\"✅ Drone landed successfully\")\n",
    "\n",
    "    except Exception as e:\n",
    "        print(f\"⚠️ Drone error: {str(e)}\")\n",
    "        print(\"❌ Flight mission aborted, continuing system...\")\n",
    "\n",
    "        # Optional safety landing if drone took off but failed mid-flight\n",
    "        # try:\n",
    "        #     tello.land()\n",
    "        # except:\n",
    "        #     pass\n",
    "\n",
    "def respond_to_bird():\n",
    "    sound_proc = play_sound_deterent()\n",
    "    deploy_drone()\n",
    "    sound_proc.terminate()  # stop the sound (optional)"
   ]
  },
  {
   "cell_type": "code",
   "execution_count": 44,
   "id": "1cf146f6-9129-444a-a0e4-e2d944f3bcd4",
   "metadata": {},
   "outputs": [
    {
     "name": "stdout",
     "output_type": "stream",
     "text": [
      "Failed to read from camera 0\n",
      "\u001b[1m2/2\u001b[0m \u001b[32m━━━━━━━━━━━━━━━━━━━━\u001b[0m\u001b[37m\u001b[0m \u001b[1m0s\u001b[0m 32ms/step\n",
      "[CAM 1] Tile 0 [0,0] → with_bird (0.51)\n",
      "Bird Detected...\n",
      "🔊 Playing sound...\n"
     ]
    },
    {
     "ename": "FileNotFoundError",
     "evalue": "[WinError 2] The system cannot find the file specified",
     "output_type": "error",
     "traceback": [
      "\u001b[1;31m---------------------------------------------------------------------------\u001b[0m",
      "\u001b[1;31mFileNotFoundError\u001b[0m                         Traceback (most recent call last)",
      "Cell \u001b[1;32mIn[44], line 32\u001b[0m\n\u001b[0;32m     30\u001b[0m \u001b[38;5;28;01mif\u001b[39;00m label \u001b[38;5;241m==\u001b[39m \u001b[38;5;124m\"\u001b[39m\u001b[38;5;124mwith_bird\u001b[39m\u001b[38;5;124m\"\u001b[39m \u001b[38;5;129;01mand\u001b[39;00m confidence \u001b[38;5;241m>\u001b[39m\u001b[38;5;241m=\u001b[39m THRESHOLD:\n\u001b[0;32m     31\u001b[0m     \u001b[38;5;28mprint\u001b[39m(\u001b[38;5;124m\"\u001b[39m\u001b[38;5;124mBird Detected...\u001b[39m\u001b[38;5;124m\"\u001b[39m)\n\u001b[1;32m---> 32\u001b[0m     \u001b[43mrespond_to_bird\u001b[49m\u001b[43m(\u001b[49m\u001b[43m)\u001b[49m\n\u001b[0;32m     33\u001b[0m     save_detected_bird(tiles[i], cam_id, i, confidence)\n\u001b[0;32m     34\u001b[0m     \u001b[38;5;28;01mbreak\u001b[39;00m\n",
      "Cell \u001b[1;32mIn[42], line 80\u001b[0m, in \u001b[0;36mrespond_to_bird\u001b[1;34m()\u001b[0m\n\u001b[0;32m     79\u001b[0m \u001b[38;5;28;01mdef\u001b[39;00m\u001b[38;5;250m \u001b[39m\u001b[38;5;21mrespond_to_bird\u001b[39m():\n\u001b[1;32m---> 80\u001b[0m     sound_proc \u001b[38;5;241m=\u001b[39m \u001b[43mplay_sound_deterent\u001b[49m\u001b[43m(\u001b[49m\u001b[43m)\u001b[49m\n\u001b[0;32m     81\u001b[0m     deploy_drone()\n\u001b[0;32m     82\u001b[0m     sound_proc\u001b[38;5;241m.\u001b[39mterminate()\n",
      "Cell \u001b[1;32mIn[42], line 39\u001b[0m, in \u001b[0;36mplay_sound_deterent\u001b[1;34m()\u001b[0m\n\u001b[0;32m     37\u001b[0m \u001b[38;5;28mprint\u001b[39m(\u001b[38;5;124m\"\u001b[39m\u001b[38;5;124m🔊 Playing sound...\u001b[39m\u001b[38;5;124m\"\u001b[39m)\n\u001b[0;32m     38\u001b[0m sound_path \u001b[38;5;241m=\u001b[39m os\u001b[38;5;241m.\u001b[39mpath\u001b[38;5;241m.\u001b[39mjoin(os\u001b[38;5;241m.\u001b[39mgetcwd(), SOUND_FILENAME)\n\u001b[1;32m---> 39\u001b[0m \u001b[38;5;28;01mreturn\u001b[39;00m \u001b[43msubprocess\u001b[49m\u001b[38;5;241;43m.\u001b[39;49m\u001b[43mPopen\u001b[49m\u001b[43m(\u001b[49m\u001b[43m[\u001b[49m\u001b[38;5;124;43m\"\u001b[39;49m\u001b[38;5;124;43maplay\u001b[39;49m\u001b[38;5;124;43m\"\u001b[39;49m\u001b[43m,\u001b[49m\u001b[43m \u001b[49m\u001b[43msound_path\u001b[49m\u001b[43m]\u001b[49m\u001b[43m)\u001b[49m\n",
      "File \u001b[1;32m~\\anaconda3\\envs\\birdenv\\lib\\subprocess.py:971\u001b[0m, in \u001b[0;36mPopen.__init__\u001b[1;34m(self, args, bufsize, executable, stdin, stdout, stderr, preexec_fn, close_fds, shell, cwd, env, universal_newlines, startupinfo, creationflags, restore_signals, start_new_session, pass_fds, user, group, extra_groups, encoding, errors, text, umask, pipesize)\u001b[0m\n\u001b[0;32m    967\u001b[0m         \u001b[38;5;28;01mif\u001b[39;00m \u001b[38;5;28mself\u001b[39m\u001b[38;5;241m.\u001b[39mtext_mode:\n\u001b[0;32m    968\u001b[0m             \u001b[38;5;28mself\u001b[39m\u001b[38;5;241m.\u001b[39mstderr \u001b[38;5;241m=\u001b[39m io\u001b[38;5;241m.\u001b[39mTextIOWrapper(\u001b[38;5;28mself\u001b[39m\u001b[38;5;241m.\u001b[39mstderr,\n\u001b[0;32m    969\u001b[0m                     encoding\u001b[38;5;241m=\u001b[39mencoding, errors\u001b[38;5;241m=\u001b[39merrors)\n\u001b[1;32m--> 971\u001b[0m     \u001b[38;5;28;43mself\u001b[39;49m\u001b[38;5;241;43m.\u001b[39;49m\u001b[43m_execute_child\u001b[49m\u001b[43m(\u001b[49m\u001b[43margs\u001b[49m\u001b[43m,\u001b[49m\u001b[43m \u001b[49m\u001b[43mexecutable\u001b[49m\u001b[43m,\u001b[49m\u001b[43m \u001b[49m\u001b[43mpreexec_fn\u001b[49m\u001b[43m,\u001b[49m\u001b[43m \u001b[49m\u001b[43mclose_fds\u001b[49m\u001b[43m,\u001b[49m\n\u001b[0;32m    972\u001b[0m \u001b[43m                        \u001b[49m\u001b[43mpass_fds\u001b[49m\u001b[43m,\u001b[49m\u001b[43m \u001b[49m\u001b[43mcwd\u001b[49m\u001b[43m,\u001b[49m\u001b[43m \u001b[49m\u001b[43menv\u001b[49m\u001b[43m,\u001b[49m\n\u001b[0;32m    973\u001b[0m \u001b[43m                        \u001b[49m\u001b[43mstartupinfo\u001b[49m\u001b[43m,\u001b[49m\u001b[43m \u001b[49m\u001b[43mcreationflags\u001b[49m\u001b[43m,\u001b[49m\u001b[43m \u001b[49m\u001b[43mshell\u001b[49m\u001b[43m,\u001b[49m\n\u001b[0;32m    974\u001b[0m \u001b[43m                        \u001b[49m\u001b[43mp2cread\u001b[49m\u001b[43m,\u001b[49m\u001b[43m \u001b[49m\u001b[43mp2cwrite\u001b[49m\u001b[43m,\u001b[49m\n\u001b[0;32m    975\u001b[0m \u001b[43m                        \u001b[49m\u001b[43mc2pread\u001b[49m\u001b[43m,\u001b[49m\u001b[43m \u001b[49m\u001b[43mc2pwrite\u001b[49m\u001b[43m,\u001b[49m\n\u001b[0;32m    976\u001b[0m \u001b[43m                        \u001b[49m\u001b[43merrread\u001b[49m\u001b[43m,\u001b[49m\u001b[43m \u001b[49m\u001b[43merrwrite\u001b[49m\u001b[43m,\u001b[49m\n\u001b[0;32m    977\u001b[0m \u001b[43m                        \u001b[49m\u001b[43mrestore_signals\u001b[49m\u001b[43m,\u001b[49m\n\u001b[0;32m    978\u001b[0m \u001b[43m                        \u001b[49m\u001b[43mgid\u001b[49m\u001b[43m,\u001b[49m\u001b[43m \u001b[49m\u001b[43mgids\u001b[49m\u001b[43m,\u001b[49m\u001b[43m \u001b[49m\u001b[43muid\u001b[49m\u001b[43m,\u001b[49m\u001b[43m \u001b[49m\u001b[43mumask\u001b[49m\u001b[43m,\u001b[49m\n\u001b[0;32m    979\u001b[0m \u001b[43m                        \u001b[49m\u001b[43mstart_new_session\u001b[49m\u001b[43m)\u001b[49m\n\u001b[0;32m    980\u001b[0m \u001b[38;5;28;01mexcept\u001b[39;00m:\n\u001b[0;32m    981\u001b[0m     \u001b[38;5;66;03m# Cleanup if the child failed starting.\u001b[39;00m\n\u001b[0;32m    982\u001b[0m     \u001b[38;5;28;01mfor\u001b[39;00m f \u001b[38;5;129;01min\u001b[39;00m \u001b[38;5;28mfilter\u001b[39m(\u001b[38;5;28;01mNone\u001b[39;00m, (\u001b[38;5;28mself\u001b[39m\u001b[38;5;241m.\u001b[39mstdin, \u001b[38;5;28mself\u001b[39m\u001b[38;5;241m.\u001b[39mstdout, \u001b[38;5;28mself\u001b[39m\u001b[38;5;241m.\u001b[39mstderr)):\n",
      "File \u001b[1;32m~\\anaconda3\\envs\\birdenv\\lib\\subprocess.py:1456\u001b[0m, in \u001b[0;36mPopen._execute_child\u001b[1;34m(self, args, executable, preexec_fn, close_fds, pass_fds, cwd, env, startupinfo, creationflags, shell, p2cread, p2cwrite, c2pread, c2pwrite, errread, errwrite, unused_restore_signals, unused_gid, unused_gids, unused_uid, unused_umask, unused_start_new_session)\u001b[0m\n\u001b[0;32m   1454\u001b[0m \u001b[38;5;66;03m# Start the process\u001b[39;00m\n\u001b[0;32m   1455\u001b[0m \u001b[38;5;28;01mtry\u001b[39;00m:\n\u001b[1;32m-> 1456\u001b[0m     hp, ht, pid, tid \u001b[38;5;241m=\u001b[39m \u001b[43m_winapi\u001b[49m\u001b[38;5;241;43m.\u001b[39;49m\u001b[43mCreateProcess\u001b[49m\u001b[43m(\u001b[49m\u001b[43mexecutable\u001b[49m\u001b[43m,\u001b[49m\u001b[43m \u001b[49m\u001b[43margs\u001b[49m\u001b[43m,\u001b[49m\n\u001b[0;32m   1457\u001b[0m \u001b[43m                             \u001b[49m\u001b[38;5;66;43;03m# no special security\u001b[39;49;00m\n\u001b[0;32m   1458\u001b[0m \u001b[43m                             \u001b[49m\u001b[38;5;28;43;01mNone\u001b[39;49;00m\u001b[43m,\u001b[49m\u001b[43m \u001b[49m\u001b[38;5;28;43;01mNone\u001b[39;49;00m\u001b[43m,\u001b[49m\n\u001b[0;32m   1459\u001b[0m \u001b[43m                             \u001b[49m\u001b[38;5;28;43mint\u001b[39;49m\u001b[43m(\u001b[49m\u001b[38;5;129;43;01mnot\u001b[39;49;00m\u001b[43m \u001b[49m\u001b[43mclose_fds\u001b[49m\u001b[43m)\u001b[49m\u001b[43m,\u001b[49m\n\u001b[0;32m   1460\u001b[0m \u001b[43m                             \u001b[49m\u001b[43mcreationflags\u001b[49m\u001b[43m,\u001b[49m\n\u001b[0;32m   1461\u001b[0m \u001b[43m                             \u001b[49m\u001b[43menv\u001b[49m\u001b[43m,\u001b[49m\n\u001b[0;32m   1462\u001b[0m \u001b[43m                             \u001b[49m\u001b[43mcwd\u001b[49m\u001b[43m,\u001b[49m\n\u001b[0;32m   1463\u001b[0m \u001b[43m                             \u001b[49m\u001b[43mstartupinfo\u001b[49m\u001b[43m)\u001b[49m\n\u001b[0;32m   1464\u001b[0m \u001b[38;5;28;01mfinally\u001b[39;00m:\n\u001b[0;32m   1465\u001b[0m     \u001b[38;5;66;03m# Child is launched. Close the parent's copy of those pipe\u001b[39;00m\n\u001b[0;32m   1466\u001b[0m     \u001b[38;5;66;03m# handles that only the child should have open.  You need\u001b[39;00m\n\u001b[1;32m   (...)\u001b[0m\n\u001b[0;32m   1469\u001b[0m     \u001b[38;5;66;03m# pipe will not close when the child process exits and the\u001b[39;00m\n\u001b[0;32m   1470\u001b[0m     \u001b[38;5;66;03m# ReadFile will hang.\u001b[39;00m\n\u001b[0;32m   1471\u001b[0m     \u001b[38;5;28mself\u001b[39m\u001b[38;5;241m.\u001b[39m_close_pipe_fds(p2cread, p2cwrite,\n\u001b[0;32m   1472\u001b[0m                          c2pread, c2pwrite,\n\u001b[0;32m   1473\u001b[0m                          errread, errwrite)\n",
      "\u001b[1;31mFileNotFoundError\u001b[0m: [WinError 2] The system cannot find the file specified"
     ]
    }
   ],
   "source": [
    "# Camera setup\n",
    "capture_one = cv2.VideoCapture(0)\n",
    "capture_two = cv2.VideoCapture(1)\n",
    "\n",
    "capture_one.set(cv2.CAP_PROP_FRAME_WIDTH, 1920)\n",
    "capture_one.set(cv2.CAP_PROP_FRAME_HEIGHT, 1080)\n",
    "capture_two.set(cv2.CAP_PROP_FRAME_WIDTH, 1920)\n",
    "capture_two.set(cv2.CAP_PROP_FRAME_HEIGHT, 1080)\n",
    "\n",
    "loop_count = 0\n",
    "\n",
    "while True:\n",
    "    for cam_id, cap in enumerate([capture_one, capture_two]):\n",
    "        ret, frame = cap.read()\n",
    "        if not ret:\n",
    "            print(f\"Failed to read from camera {cam_id}\")\n",
    "            continue\n",
    "\n",
    "        tiles, tile_coords = preprocess_frame_to_tiles(frame, ROWS, COLS, INPUT_SIZE)\n",
    "\n",
    "        input_batch = np.array(tiles)\n",
    "        preds = model.predict(input_batch)\n",
    "\n",
    "        for i, ((x1, y1, x2, y2), pred) in enumerate(zip(tile_coords, preds)):\n",
    "            pred_class = np.argmax(pred)\n",
    "            confidence = pred[pred_class]\n",
    "            label = CLASS_NAMES[pred_class]\n",
    "            print(f\"[CAM {cam_id}] Tile {i} [{x1},{y1}] → {label} ({confidence:.2f})\")\n",
    "\n",
    "            if label == \"with_bird\" and confidence >= THRESHOLD:\n",
    "                print(\"Bird Detected...\")\n",
    "                respond_to_bird()\n",
    "                save_detected_bird(tiles[i], cam_id, i, confidence)\n",
    "                break\n",
    "\n",
    "    if cv2.waitKey(1) & 0xFF == ord(\"q\"):\n",
    "        break\n",
    "\n",
    "    print(\"sleepp...\")\n",
    "    time.sleep(LOOP_INTERVAL)\n",
    "    loop_count = loop_count + 1\n",
    "\n",
    "    if loop_count >= 3:\n",
    "        print(\"break the loop...\")\n",
    "        break\n",
    "\n",
    "capture_one.release()\n",
    "capture_two.release()\n",
    "cv2.destroyAllWindows()\n"
   ]
  },
  {
   "cell_type": "code",
   "execution_count": null,
   "id": "4619e133-b0ea-44c9-8b18-b46dedc4e16d",
   "metadata": {},
   "outputs": [],
   "source": []
  }
 ],
 "metadata": {
  "kernelspec": {
   "display_name": "Python (birdenv)",
   "language": "python",
   "name": "birdenv"
  },
  "language_info": {
   "codemirror_mode": {
    "name": "ipython",
    "version": 3
   },
   "file_extension": ".py",
   "mimetype": "text/x-python",
   "name": "python",
   "nbconvert_exporter": "python",
   "pygments_lexer": "ipython3",
   "version": "3.10.16"
  }
 },
 "nbformat": 4,
 "nbformat_minor": 5
}
