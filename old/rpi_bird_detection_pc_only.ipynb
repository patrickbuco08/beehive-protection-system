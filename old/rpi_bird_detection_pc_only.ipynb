{
 "cells": [
  {
   "cell_type": "code",
   "execution_count": 196,
   "id": "2da12e9a-7148-4e08-abd2-ae2ca76ad593",
   "metadata": {},
   "outputs": [],
   "source": [
    "# jupyter nbconvert --to script rpi_bird_detection.ipynb"
   ]
  },
  {
   "cell_type": "code",
   "execution_count": 173,
   "id": "012b1f53-5d55-43eb-b263-13389e217273",
   "metadata": {},
   "outputs": [],
   "source": [
    "import cv2\n",
    "import numpy as np\n",
    "import tensorflow as tf  # ON PC, we can use full TensorFlow\n",
    "import matplotlib.pyplot as plt\n",
    "import time\n",
    "import os\n",
    "import subprocess\n",
    "\n",
    "# import tflite_runtime.interpreter as tflite\n",
    "tflite = tf.lite"
   ]
  },
  {
   "cell_type": "code",
   "execution_count": 175,
   "id": "5e71ca40-fe99-4779-abba-ffe0be82fbda",
   "metadata": {},
   "outputs": [],
   "source": [
    "# load model\n",
    "interpreter = tf.lite.Interpreter(model_path=\"bird_detection_model_v1.tflite\")\n",
    "interpreter.allocate_tensors()"
   ]
  },
  {
   "cell_type": "code",
   "execution_count": 177,
   "id": "3011e951-3847-4add-bc5e-5556a0896207",
   "metadata": {},
   "outputs": [],
   "source": [
    "# --- Config ---\n",
    "INPUT_SIZE = (180, 180)\n",
    "ROWS, COLS = 8, 8\n",
    "CONFIDENCE_THRESHOLD = 0.50\n",
    "MODEL_PATH = \"bird_detection_model_v1.tflite\"\n",
    "SOUND_FILENAME = 'alert.wav'\n",
    "CLASS_NAMES = ['no_bird', 'with_bird']\n",
    "LOOP_INTERVAL = 3"
   ]
  },
  {
   "cell_type": "code",
   "execution_count": 179,
   "id": "e870aa89-1074-4754-9ebe-f3547ab01a0f",
   "metadata": {},
   "outputs": [],
   "source": [
    "# --- Load TFLite Model ---\n",
    "interpreter = tflite.Interpreter(model_path=MODEL_PATH)\n",
    "interpreter.allocate_tensors()\n",
    "input_details = interpreter.get_input_details()\n",
    "output_details = interpreter.get_output_details()"
   ]
  },
  {
   "cell_type": "code",
   "execution_count": 191,
   "id": "fb717a2e-7b5a-439c-af9b-f4cd26673ae5",
   "metadata": {},
   "outputs": [],
   "source": [
    "def save_detected_bird(tile_img, cam_id, tile_id, confidence):\n",
    "    now = datetime.now().strftime(\"%Y%m%d_%H%M%S\")\n",
    "    folder = \"detections\"\n",
    "    os.makedirs(folder, exist_ok=True)\n",
    "    filename = f\"{folder}/cam{cam_id}_tile{tile_id}_{int(confidence*100)}_{now}.jpg\"\n",
    "    cv2.imwrite(filename, tile_img)\n",
    "    print(f\"📸 Saved detection: {filename}\")\n",
    "\n",
    "def predict_tile(tile):\n",
    "    img = cv2.resize(tile, INPUT_SIZE).astype(np.float32) / 255.0\n",
    "    img = np.expand_dims(img, axis=0)\n",
    "    interpreter.set_tensor(input_details[0]['index'], img)\n",
    "    interpreter.invoke()\n",
    "    output = interpreter.get_tensor(output_details[0]['index'])\n",
    "    pred_class = np.argmax(output[0])\n",
    "    confidence = output[0][pred_class]\n",
    "    return CLASS_NAMES[pred_class], confidence\n",
    "\n",
    "def play_sound_deterent():\n",
    "    print(\"🔊 Playing sound...\")\n",
    "    SOUND_FILENAME = \"alert.wav\"\n",
    "    sound_path = os.path.join(os.getcwd(), SOUND_FILENAME)\n",
    "    return subprocess.Popen([\"aplay\", sound_path])\n",
    "\n",
    "def deploy_drone():\n",
    "    print(\"🚁 Drone: Starting mission...\")\n",
    "    time.sleep(10)\n",
    "\n",
    "def respond_to_bird():\n",
    "    sound_proc = play_sound_deterent()\n",
    "    deploy_drone()\n",
    "    sound_proc.terminate()  # stop the sound (optional)\n",
    "\n",
    "def preprocess_frame_to_tiles(frame):\n",
    "    tiles = []\n",
    "    coords = []\n",
    "    height, width = frame.shape[:2]\n",
    "    tile_h, tile_w = height // ROWS, width // COLS\n",
    "\n",
    "    for r in range(ROWS):\n",
    "        for c in range(COLS):\n",
    "            y1, y2 = r * tile_h, (r + 1) * tile_h\n",
    "            x1, x2 = c * tile_w, (c + 1) * tile_w\n",
    "            tile = frame[y1:y2, x1:x2]\n",
    "            tiles.append(tile)\n",
    "            coords.append((r, c, x1, y1))\n",
    "    return tiles, coords"
   ]
  },
  {
   "cell_type": "code",
   "execution_count": 193,
   "id": "1d36a885-5b99-4dfe-9fb2-09546c78a15b",
   "metadata": {},
   "outputs": [
    {
     "name": "stdout",
     "output_type": "stream",
     "text": [
      "🚀 Detection started. Press Q to quit.\n"
     ]
    }
   ],
   "source": [
    "# Setup cameras\n",
    "capture_one = cv2.VideoCapture(0)\n",
    "capture_two = cv2.VideoCapture(1)\n",
    "\n",
    "for cap in [capture_one, capture_two]:\n",
    "    cap.set(cv2.CAP_PROP_FRAME_WIDTH, 1920)\n",
    "    cap.set(cv2.CAP_PROP_FRAME_HEIGHT, 1080)\n",
    "\n",
    "print(\"🚀 Detection started. Press Q to quit.\")"
   ]
  },
  {
   "cell_type": "code",
   "execution_count": 194,
   "id": "4780d174-f192-45d4-b0c3-bbb22b68f7e5",
   "metadata": {},
   "outputs": [
    {
     "name": "stdout",
     "output_type": "stream",
     "text": [
      "[CAM 0] Tile 0 [0,0] → no_bird (0.81)\n",
      "[CAM 0] Tile 1 [0,1] → no_bird (0.82)\n",
      "[CAM 0] Tile 2 [0,2] → no_bird (0.84)\n",
      "[CAM 0] Tile 3 [0,3] → no_bird (0.66)\n",
      "[CAM 0] Tile 4 [0,4] → no_bird (0.70)\n",
      "[CAM 0] Tile 5 [0,5] → no_bird (0.72)\n",
      "[CAM 0] Tile 6 [0,6] → no_bird (0.51)\n",
      "[CAM 0] Tile 7 [0,7] → with_bird (0.54)\n",
      "🚨 [CAM 0] BIRD DETECTED at tile [0,7]!\n",
      "🔊 Playing sound...\n"
     ]
    },
    {
     "ename": "FileNotFoundError",
     "evalue": "[WinError 2] The system cannot find the file specified",
     "output_type": "error",
     "traceback": [
      "\u001b[1;31m---------------------------------------------------------------------------\u001b[0m",
      "\u001b[1;31mFileNotFoundError\u001b[0m                         Traceback (most recent call last)",
      "Cell \u001b[1;32mIn[194], line 20\u001b[0m\n\u001b[0;32m     18\u001b[0m \u001b[38;5;28;01mif\u001b[39;00m label \u001b[38;5;241m==\u001b[39m \u001b[38;5;124m\"\u001b[39m\u001b[38;5;124mwith_bird\u001b[39m\u001b[38;5;124m\"\u001b[39m \u001b[38;5;129;01mand\u001b[39;00m conf \u001b[38;5;241m>\u001b[39m\u001b[38;5;241m=\u001b[39m CONFIDENCE_THRESHOLD:\n\u001b[0;32m     19\u001b[0m     \u001b[38;5;28mprint\u001b[39m(\u001b[38;5;124mf\u001b[39m\u001b[38;5;124m\"\u001b[39m\u001b[38;5;124m🚨 [CAM \u001b[39m\u001b[38;5;132;01m{\u001b[39;00mcam_id\u001b[38;5;132;01m}\u001b[39;00m\u001b[38;5;124m] BIRD DETECTED at tile [\u001b[39m\u001b[38;5;132;01m{\u001b[39;00mr\u001b[38;5;132;01m}\u001b[39;00m\u001b[38;5;124m,\u001b[39m\u001b[38;5;132;01m{\u001b[39;00mc\u001b[38;5;132;01m}\u001b[39;00m\u001b[38;5;124m]!\u001b[39m\u001b[38;5;124m\"\u001b[39m)\n\u001b[1;32m---> 20\u001b[0m     \u001b[43mrespond_to_bird\u001b[49m\u001b[43m(\u001b[49m\u001b[43m)\u001b[49m\n\u001b[0;32m     21\u001b[0m     save_detected_bird(tiles[i], cam_id, i, confidence)\n\u001b[0;32m     22\u001b[0m     \u001b[38;5;28;01mbreak\u001b[39;00m\n",
      "Cell \u001b[1;32mIn[191], line 30\u001b[0m, in \u001b[0;36mrespond_to_bird\u001b[1;34m()\u001b[0m\n\u001b[0;32m     29\u001b[0m \u001b[38;5;28;01mdef\u001b[39;00m\u001b[38;5;250m \u001b[39m\u001b[38;5;21mrespond_to_bird\u001b[39m():\n\u001b[1;32m---> 30\u001b[0m     sound_proc \u001b[38;5;241m=\u001b[39m \u001b[43mplay_sound_deterent\u001b[49m\u001b[43m(\u001b[49m\u001b[43m)\u001b[49m\n\u001b[0;32m     31\u001b[0m     deploy_drone()\n\u001b[0;32m     32\u001b[0m     sound_proc\u001b[38;5;241m.\u001b[39mterminate()\n",
      "Cell \u001b[1;32mIn[191], line 23\u001b[0m, in \u001b[0;36mplay_sound_deterent\u001b[1;34m()\u001b[0m\n\u001b[0;32m     21\u001b[0m SOUND_FILENAME \u001b[38;5;241m=\u001b[39m \u001b[38;5;124m\"\u001b[39m\u001b[38;5;124malert.wav\u001b[39m\u001b[38;5;124m\"\u001b[39m\n\u001b[0;32m     22\u001b[0m sound_path \u001b[38;5;241m=\u001b[39m os\u001b[38;5;241m.\u001b[39mpath\u001b[38;5;241m.\u001b[39mjoin(os\u001b[38;5;241m.\u001b[39mgetcwd(), SOUND_FILENAME)\n\u001b[1;32m---> 23\u001b[0m \u001b[38;5;28;01mreturn\u001b[39;00m \u001b[43msubprocess\u001b[49m\u001b[38;5;241;43m.\u001b[39;49m\u001b[43mPopen\u001b[49m\u001b[43m(\u001b[49m\u001b[43m[\u001b[49m\u001b[38;5;124;43m\"\u001b[39;49m\u001b[38;5;124;43maplay\u001b[39;49m\u001b[38;5;124;43m\"\u001b[39;49m\u001b[43m,\u001b[49m\u001b[43m \u001b[49m\u001b[43msound_path\u001b[49m\u001b[43m]\u001b[49m\u001b[43m)\u001b[49m\n",
      "File \u001b[1;32m~\\anaconda3\\envs\\birdenv\\lib\\subprocess.py:971\u001b[0m, in \u001b[0;36mPopen.__init__\u001b[1;34m(self, args, bufsize, executable, stdin, stdout, stderr, preexec_fn, close_fds, shell, cwd, env, universal_newlines, startupinfo, creationflags, restore_signals, start_new_session, pass_fds, user, group, extra_groups, encoding, errors, text, umask, pipesize)\u001b[0m\n\u001b[0;32m    967\u001b[0m         \u001b[38;5;28;01mif\u001b[39;00m \u001b[38;5;28mself\u001b[39m\u001b[38;5;241m.\u001b[39mtext_mode:\n\u001b[0;32m    968\u001b[0m             \u001b[38;5;28mself\u001b[39m\u001b[38;5;241m.\u001b[39mstderr \u001b[38;5;241m=\u001b[39m io\u001b[38;5;241m.\u001b[39mTextIOWrapper(\u001b[38;5;28mself\u001b[39m\u001b[38;5;241m.\u001b[39mstderr,\n\u001b[0;32m    969\u001b[0m                     encoding\u001b[38;5;241m=\u001b[39mencoding, errors\u001b[38;5;241m=\u001b[39merrors)\n\u001b[1;32m--> 971\u001b[0m     \u001b[38;5;28;43mself\u001b[39;49m\u001b[38;5;241;43m.\u001b[39;49m\u001b[43m_execute_child\u001b[49m\u001b[43m(\u001b[49m\u001b[43margs\u001b[49m\u001b[43m,\u001b[49m\u001b[43m \u001b[49m\u001b[43mexecutable\u001b[49m\u001b[43m,\u001b[49m\u001b[43m \u001b[49m\u001b[43mpreexec_fn\u001b[49m\u001b[43m,\u001b[49m\u001b[43m \u001b[49m\u001b[43mclose_fds\u001b[49m\u001b[43m,\u001b[49m\n\u001b[0;32m    972\u001b[0m \u001b[43m                        \u001b[49m\u001b[43mpass_fds\u001b[49m\u001b[43m,\u001b[49m\u001b[43m \u001b[49m\u001b[43mcwd\u001b[49m\u001b[43m,\u001b[49m\u001b[43m \u001b[49m\u001b[43menv\u001b[49m\u001b[43m,\u001b[49m\n\u001b[0;32m    973\u001b[0m \u001b[43m                        \u001b[49m\u001b[43mstartupinfo\u001b[49m\u001b[43m,\u001b[49m\u001b[43m \u001b[49m\u001b[43mcreationflags\u001b[49m\u001b[43m,\u001b[49m\u001b[43m \u001b[49m\u001b[43mshell\u001b[49m\u001b[43m,\u001b[49m\n\u001b[0;32m    974\u001b[0m \u001b[43m                        \u001b[49m\u001b[43mp2cread\u001b[49m\u001b[43m,\u001b[49m\u001b[43m \u001b[49m\u001b[43mp2cwrite\u001b[49m\u001b[43m,\u001b[49m\n\u001b[0;32m    975\u001b[0m \u001b[43m                        \u001b[49m\u001b[43mc2pread\u001b[49m\u001b[43m,\u001b[49m\u001b[43m \u001b[49m\u001b[43mc2pwrite\u001b[49m\u001b[43m,\u001b[49m\n\u001b[0;32m    976\u001b[0m \u001b[43m                        \u001b[49m\u001b[43merrread\u001b[49m\u001b[43m,\u001b[49m\u001b[43m \u001b[49m\u001b[43merrwrite\u001b[49m\u001b[43m,\u001b[49m\n\u001b[0;32m    977\u001b[0m \u001b[43m                        \u001b[49m\u001b[43mrestore_signals\u001b[49m\u001b[43m,\u001b[49m\n\u001b[0;32m    978\u001b[0m \u001b[43m                        \u001b[49m\u001b[43mgid\u001b[49m\u001b[43m,\u001b[49m\u001b[43m \u001b[49m\u001b[43mgids\u001b[49m\u001b[43m,\u001b[49m\u001b[43m \u001b[49m\u001b[43muid\u001b[49m\u001b[43m,\u001b[49m\u001b[43m \u001b[49m\u001b[43mumask\u001b[49m\u001b[43m,\u001b[49m\n\u001b[0;32m    979\u001b[0m \u001b[43m                        \u001b[49m\u001b[43mstart_new_session\u001b[49m\u001b[43m)\u001b[49m\n\u001b[0;32m    980\u001b[0m \u001b[38;5;28;01mexcept\u001b[39;00m:\n\u001b[0;32m    981\u001b[0m     \u001b[38;5;66;03m# Cleanup if the child failed starting.\u001b[39;00m\n\u001b[0;32m    982\u001b[0m     \u001b[38;5;28;01mfor\u001b[39;00m f \u001b[38;5;129;01min\u001b[39;00m \u001b[38;5;28mfilter\u001b[39m(\u001b[38;5;28;01mNone\u001b[39;00m, (\u001b[38;5;28mself\u001b[39m\u001b[38;5;241m.\u001b[39mstdin, \u001b[38;5;28mself\u001b[39m\u001b[38;5;241m.\u001b[39mstdout, \u001b[38;5;28mself\u001b[39m\u001b[38;5;241m.\u001b[39mstderr)):\n",
      "File \u001b[1;32m~\\anaconda3\\envs\\birdenv\\lib\\subprocess.py:1456\u001b[0m, in \u001b[0;36mPopen._execute_child\u001b[1;34m(self, args, executable, preexec_fn, close_fds, pass_fds, cwd, env, startupinfo, creationflags, shell, p2cread, p2cwrite, c2pread, c2pwrite, errread, errwrite, unused_restore_signals, unused_gid, unused_gids, unused_uid, unused_umask, unused_start_new_session)\u001b[0m\n\u001b[0;32m   1454\u001b[0m \u001b[38;5;66;03m# Start the process\u001b[39;00m\n\u001b[0;32m   1455\u001b[0m \u001b[38;5;28;01mtry\u001b[39;00m:\n\u001b[1;32m-> 1456\u001b[0m     hp, ht, pid, tid \u001b[38;5;241m=\u001b[39m \u001b[43m_winapi\u001b[49m\u001b[38;5;241;43m.\u001b[39;49m\u001b[43mCreateProcess\u001b[49m\u001b[43m(\u001b[49m\u001b[43mexecutable\u001b[49m\u001b[43m,\u001b[49m\u001b[43m \u001b[49m\u001b[43margs\u001b[49m\u001b[43m,\u001b[49m\n\u001b[0;32m   1457\u001b[0m \u001b[43m                             \u001b[49m\u001b[38;5;66;43;03m# no special security\u001b[39;49;00m\n\u001b[0;32m   1458\u001b[0m \u001b[43m                             \u001b[49m\u001b[38;5;28;43;01mNone\u001b[39;49;00m\u001b[43m,\u001b[49m\u001b[43m \u001b[49m\u001b[38;5;28;43;01mNone\u001b[39;49;00m\u001b[43m,\u001b[49m\n\u001b[0;32m   1459\u001b[0m \u001b[43m                             \u001b[49m\u001b[38;5;28;43mint\u001b[39;49m\u001b[43m(\u001b[49m\u001b[38;5;129;43;01mnot\u001b[39;49;00m\u001b[43m \u001b[49m\u001b[43mclose_fds\u001b[49m\u001b[43m)\u001b[49m\u001b[43m,\u001b[49m\n\u001b[0;32m   1460\u001b[0m \u001b[43m                             \u001b[49m\u001b[43mcreationflags\u001b[49m\u001b[43m,\u001b[49m\n\u001b[0;32m   1461\u001b[0m \u001b[43m                             \u001b[49m\u001b[43menv\u001b[49m\u001b[43m,\u001b[49m\n\u001b[0;32m   1462\u001b[0m \u001b[43m                             \u001b[49m\u001b[43mcwd\u001b[49m\u001b[43m,\u001b[49m\n\u001b[0;32m   1463\u001b[0m \u001b[43m                             \u001b[49m\u001b[43mstartupinfo\u001b[49m\u001b[43m)\u001b[49m\n\u001b[0;32m   1464\u001b[0m \u001b[38;5;28;01mfinally\u001b[39;00m:\n\u001b[0;32m   1465\u001b[0m     \u001b[38;5;66;03m# Child is launched. Close the parent's copy of those pipe\u001b[39;00m\n\u001b[0;32m   1466\u001b[0m     \u001b[38;5;66;03m# handles that only the child should have open.  You need\u001b[39;00m\n\u001b[1;32m   (...)\u001b[0m\n\u001b[0;32m   1469\u001b[0m     \u001b[38;5;66;03m# pipe will not close when the child process exits and the\u001b[39;00m\n\u001b[0;32m   1470\u001b[0m     \u001b[38;5;66;03m# ReadFile will hang.\u001b[39;00m\n\u001b[0;32m   1471\u001b[0m     \u001b[38;5;28mself\u001b[39m\u001b[38;5;241m.\u001b[39m_close_pipe_fds(p2cread, p2cwrite,\n\u001b[0;32m   1472\u001b[0m                          c2pread, c2pwrite,\n\u001b[0;32m   1473\u001b[0m                          errread, errwrite)\n",
      "\u001b[1;31mFileNotFoundError\u001b[0m: [WinError 2] The system cannot find the file specified"
     ]
    }
   ],
   "source": [
    "loop_count = 0\n",
    "\n",
    "while True:\n",
    "    for cam_id, cap in enumerate([capture_one, capture_two]):\n",
    "        ret, frame = cap.read()\n",
    "        if not ret:\n",
    "            print(f\"❌ Failed to read from camera {cam_id}\")\n",
    "            continue\n",
    "\n",
    "        frame_rgb = cv2.cvtColor(frame, cv2.COLOR_BGR2RGB)\n",
    "        tiles, coords = preprocess_frame_to_tiles(frame_rgb)\n",
    "\n",
    "        for i, tile in enumerate(tiles):\n",
    "            label, conf = predict_tile(tile)\n",
    "            r, c, x, y = coords[i]\n",
    "            print(f\"[CAM {cam_id}] Tile {i} [{r},{c}] → {label} ({conf:.2f})\")\n",
    "\n",
    "            if label == \"with_bird\" and conf >= CONFIDENCE_THRESHOLD:\n",
    "                print(f\"🚨 [CAM {cam_id}] BIRD DETECTED at tile [{r},{c}]!\")\n",
    "                respond_to_bird()\n",
    "                save_detected_bird(tiles[i], cam_id, i, confidence)\n",
    "                break\n",
    "\n",
    "    if cv2.waitKey(1) & 0xFF == ord(\"q\"):\n",
    "        print(\"🛑 Stopping...\")\n",
    "        break\n",
    "\n",
    "    print(\"sleepp...\")\n",
    "    time.sleep(LOOP_INTERVAL)\n",
    "    loop_count = loop_count + 1\n",
    "\n",
    "    if loop_count >= 3:\n",
    "        print(\"break the loop...\")\n",
    "        break\n",
    "\n",
    "capture_one.release()\n",
    "capture_two.release()\n",
    "cv2.destroyAllWindows()"
   ]
  },
  {
   "cell_type": "code",
   "execution_count": null,
   "id": "e2f3fbe8-09b0-4fd6-90f2-e0cb1f0eac6e",
   "metadata": {},
   "outputs": [],
   "source": []
  }
 ],
 "metadata": {
  "kernelspec": {
   "display_name": "Python (birdenv)",
   "language": "python",
   "name": "birdenv"
  },
  "language_info": {
   "codemirror_mode": {
    "name": "ipython",
    "version": 3
   },
   "file_extension": ".py",
   "mimetype": "text/x-python",
   "name": "python",
   "nbconvert_exporter": "python",
   "pygments_lexer": "ipython3",
   "version": "3.10.16"
  }
 },
 "nbformat": 4,
 "nbformat_minor": 5
}
